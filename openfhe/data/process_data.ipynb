{
 "cells": [
  {
   "cell_type": "code",
   "execution_count": null,
   "id": "36e9ced2",
   "metadata": {},
   "outputs": [],
   "source": [
    "import torch\n",
    "import pandas as pd\n",
    "import time\n",
    "\n",
    "from sklearn.metrics import r2_score, mean_squared_error\n",
    "import numpy as np\n",
    "import matplotlib.pyplot as plt\n",
    "from sklearn.preprocessing import StandardScaler\n",
    "from sklearn.model_selection import train_test_split\n",
    "from sklearn.utils import shuffle\n",
    "\n",
    "import pickle\n",
    "import seaborn as sns\n",
    "from openfhe import *\n",
    "from tqdm import tqdm"
   ]
  },
  {
   "cell_type": "markdown",
   "id": "80f9e68c",
   "metadata": {},
   "source": [
    "    Setul de date este luat din kaggle: https://www.kaggle.com/datasets/mahatiratusher/stroke-risk-prediction-dataset-v2/data\n",
    "    "
   ]
  },
  {
   "cell_type": "code",
   "execution_count": null,
   "id": "1de5b443",
   "metadata": {},
   "outputs": [],
   "source": [
    "def prelucrare_date():\n",
    "    csv = pd.read_csv('./stroke_risk_dataset.csv', encoding='utf-8')\n",
    "    csv = csv.drop(columns=[\"nausea_vomiting\"])\n",
    "    gender = ['Male','Female']\n",
    "    dict_gender = {t: i + 1 for i, t in enumerate(gender)}\n",
    "    csv['gender'] = csv['gender'].map(dict_gender).fillna(-1).astype(int)\n",
    "    #impartim datle pentru linear regression si logistic regression in date de train si test\n",
    "    li_r_labels = torch.tensor(csv[\"stroke_risk_percentage\"].values).float().unsqueeze(1)\n",
    "    lo_r_labels = torch.tensor(csv[\"at_risk\"].values).float().unsqueeze(1)\n",
    "    # print(li_r_labels)\n",
    "    # print(lo_r_labels)\n",
    "    li_r_data = csv.drop(columns=[\"stroke_risk_percentage\", \"at_risk\"])\n",
    "    lo_r_data = csv.drop(columns=[\"stroke_risk_percentage\", \"at_risk\"])\n",
    "    # print(li_r_data)\n",
    "    # print(lo_r_data)\n",
    "    li_r_data = torch.tensor(li_r_data.values).float()\n",
    "    lo_r_data = torch.tensor(lo_r_data.values).float()\n",
    "    li_r_data, li_r_labels = shuffle(li_r_data, li_r_labels, random_state=0)\n",
    "    lo_r_data, lo_r_labels = shuffle(lo_r_data, lo_r_labels, random_state=0)\n",
    "    li_r_train_data, li_r_test_data, li_r_train_labels, li_r_test_labels = train_test_split(\n",
    "        li_r_data, li_r_labels, test_size=0.3, random_state=0)\n",
    "    lo_r_train_data, lo_r_test_data, lo_r_train_labels, lo_r_test_labels = train_test_split(\n",
    "        lo_r_data, lo_r_labels, test_size=0.3, random_state=0)\n",
    "    return li_r_train_data, li_r_test_data, li_r_train_labels, li_r_test_labels,lo_r_train_data, lo_r_test_data, lo_r_train_labels, lo_r_test_labels"
   ]
  },
  {
   "cell_type": "code",
   "execution_count": null,
   "id": "a0d89c21",
   "metadata": {},
   "outputs": [],
   "source": [
    "li_r_train_data, li_r_test_data, li_r_train_labels, li_r_test_labels,lo_r_train_data, lo_r_test_data, lo_r_train_labels, lo_r_test_labels=prelucrare_date()\n",
    "torch.save({\n",
    "    'train_data': li_r_train_data,\n",
    "    'test_data': li_r_test_data,\n",
    "    'train_labels': li_r_train_labels,\n",
    "    'test_labels': li_r_test_labels\n",
    "}, 'date_liniar_regression.pth')\n",
    "torch.save({\n",
    "    'train_data': lo_r_train_data,\n",
    "    'test_data': lo_r_test_data,\n",
    "    'train_labels': lo_r_train_labels,\n",
    "    'test_labels': lo_r_test_labels\n",
    "}, 'date_logistic_regression.pth')"
   ]
  }
 ],
 "metadata": {
  "kernelspec": {
   "display_name": ".venv",
   "language": "python",
   "name": "python3"
  },
  "language_info": {
   "codemirror_mode": {
    "name": "ipython",
    "version": 3
   },
   "file_extension": ".py",
   "mimetype": "text/x-python",
   "name": "python",
   "nbconvert_exporter": "python",
   "pygments_lexer": "ipython3",
   "version": "3.10.12"
  }
 },
 "nbformat": 4,
 "nbformat_minor": 5
}
