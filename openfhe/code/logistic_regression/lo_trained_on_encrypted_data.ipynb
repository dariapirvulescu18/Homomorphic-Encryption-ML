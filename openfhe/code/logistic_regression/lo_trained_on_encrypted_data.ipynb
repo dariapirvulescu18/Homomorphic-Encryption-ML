{
 "cells": [
  {
   "cell_type": "code",
   "execution_count": 47,
   "id": "initial_id",
   "metadata": {
    "ExecuteTime": {
     "end_time": "2025-03-24T08:45:38.006938Z",
     "start_time": "2025-03-24T08:45:37.994578Z"
    },
    "collapsed": true
   },
   "outputs": [],
   "source": [
    "import torch\n",
    "# import tenseal as ts\n",
    "import pandas as pd\n",
    "import time\n",
    "\n",
    "from sklearn.metrics import r2_score, mean_squared_error\n",
    "import numpy as np\n",
    "import matplotlib.pyplot as plt\n",
    "from sklearn.preprocessing import StandardScaler\n",
    "from sklearn.model_selection import train_test_split\n",
    "from sklearn.utils import shuffle\n",
    "\n",
    "import pickle\n",
    "import seaborn as sns\n",
    "from openfhe import *\n",
    "from tqdm import tqdm\n",
    "import openfhe\n",
    "from openfhe import PKESchemeFeature\n",
    "from sklearn.metrics import confusion_matrix"
   ]
  },
  {
   "cell_type": "code",
   "execution_count": null,
   "id": "880bb80690161eb9",
   "metadata": {
    "ExecuteTime": {
     "end_time": "2025-03-24T08:22:01.604605Z",
     "start_time": "2025-03-24T08:22:01.582642Z"
    }
   },
   "outputs": [],
   "source": [
    "def load_data(path):\n",
    "    saved_data = torch.load(path,weights_only=True)\n",
    "    x_train = saved_data['train_data']\n",
    "    x_test = saved_data['test_data']\n",
    "    y_train = saved_data['train_labels']\n",
    "    y_test = saved_data['test_labels']\n",
    "    print(\"############# Data summary #############\")\n",
    "    print(f\"x_train has shape: {x_train.shape}\")\n",
    "    print(f\"y_train has shape: {y_train.shape}\")\n",
    "    print(f\"x_test has shape: {x_test.shape}\")\n",
    "    print(f\"y_test has shape: {y_test.shape}\")\n",
    "    print(\"#######################################\")\n",
    "    return x_train,x_test,y_train,y_test"
   ]
  },
  {
   "cell_type": "code",
   "execution_count": 4,
   "id": "e1c7fc3ff56f98c0",
   "metadata": {
    "ExecuteTime": {
     "end_time": "2025-03-24T08:21:59.712290Z",
     "start_time": "2025-03-24T08:21:59.698163Z"
    }
   },
   "outputs": [],
   "source": [
    "def normalizare_date(x_train,x_test):\n",
    "    scaler = StandardScaler()\n",
    "    x_train = torch.tensor(scaler.fit_transform(x_train), dtype=torch.float32)\n",
    "    x_test= torch.tensor(scaler.transform(x_test), dtype=torch.float32)\n",
    "    print(x_train.shape)\n",
    "    print(x_test.shape)\n",
    "    return x_train,x_test\n"
   ]
  },
  {
   "cell_type": "code",
   "execution_count": 5,
   "id": "4048cf0b5109b9da",
   "metadata": {
    "ExecuteTime": {
     "end_time": "2025-03-24T08:22:03.656661Z",
     "start_time": "2025-03-24T08:22:03.554325Z"
    }
   },
   "outputs": [
    {
     "name": "stdout",
     "output_type": "stream",
     "text": [
      "############# Data summary #############\n",
      "x_train has shape: torch.Size([24500, 16])\n",
      "y_train has shape: torch.Size([24500, 1])\n",
      "x_test has shape: torch.Size([10500, 16])\n",
      "y_test has shape: torch.Size([10500, 1])\n",
      "#######################################\n",
      "torch.Size([24500, 16])\n",
      "torch.Size([10500, 16])\n"
     ]
    }
   ],
   "source": [
    "x_train,x_test,y_train,y_test = load_data('date_logistic_regression.pth')\n",
    "x_train,x_test= normalizare_date(x_train,x_test)\n",
    "x_train,x_test,y_train,y_test= x_train[:1000],x_test[:700],y_train[:1000],y_test[:700]\n",
    "#vom lucra doar cu o parte din setul de date pentru a antrena mai repede modelul,\n",
    "#  deoarce nu ne intereseaza acuratetea modelului "
   ]
  },
  {
   "cell_type": "code",
   "execution_count": 38,
   "id": "4e5ff4d429dc9d09",
   "metadata": {
    "ExecuteTime": {
     "end_time": "2025-03-24T08:21:28.932174Z",
     "start_time": "2025-03-24T08:21:28.918976Z"
    }
   },
   "outputs": [],
   "source": [
    "class LogisticRegressionEncrypted:\n",
    "    def __init__(self, n_features, learning_rate=0.1, weight_decay=0.1):\n",
    "        self.bound = np.sqrt(3/n_features)\n",
    "        self.weight = [0.01] * n_features\n",
    "        # self.weight = np.random.uniform(-self.bound, self.bound, size=n_features).tolist()\n",
    "        self.bias = np.zeros(n_features).tolist()\n",
    "        self.learning_rate = learning_rate\n",
    "        self.weight_decay = weight_decay\n",
    "        self._delta_w = 0\n",
    "        self._delta_b = 0\n",
    "\n",
    "\n",
    "    def forward_on_encrypted_data(self, enc_x):\n",
    "        output = []\n",
    "        for x in enc_x:\n",
    "            enc_sum = cc.EvalInnerProduct(x, self.weight,16)\n",
    "            enc_pred = cc.EvalAdd(enc_sum, self.bias)\n",
    "            enc_log = cc.EvalLogistic(enc_pred,-5,5,16)\n",
    "            output.append(enc_log)\n",
    "        return output\n",
    "\n",
    "   \n",
    "    def backward(self, enc_x, enc_out, enc_y):\n",
    "        batch_size = len(enc_x)\n",
    "        half = 2/batch_size\n",
    "        delta_y = [cc.EvalSub(out , y) for out, y in zip(enc_out, enc_y)]\n",
    "        delta_w = [cc.EvalMultAndRelinearize(x , dy) for dy, x in zip(delta_y, enc_x)]\n",
    "        self._delta_w = cc.EvalAddManyInPlace(delta_w)\n",
    "        self._delta_w = cc.EvalMult(self._delta_w, half)\n",
    "        self._delta_b = cc.EvalAddManyInPlace(delta_y)\n",
    "        self._delta_b = cc.EvalMult(self._delta_b, half)\n",
    "       \n",
    "\n",
    "    def update_parameters(self):\n",
    "        if self._delta_w == 0:\n",
    "            raise RuntimeError(\"Trebuie sa treci prin functia forword macar o data\")\n",
    "        self._delta_w = cc.EvalMult(self._delta_w, self.learning_rate)\n",
    "        prod = cc.EvalMult(self.weight_decay,  self.weight)\n",
    "        self._delta_w = cc.EvalAdd(self._delta_w, prod) \n",
    "        self.weight = cc.EvalSub(self.weight, self._delta_w)\n",
    "        prod = cc.EvalMult(self._delta_b, self.learning_rate)\n",
    "        self.bias = cc.EvalSub(self.bias,prod) \n",
    "\n",
    "        decr_w= cc.Decrypt(self.weight, keys.secretKey)\n",
    "        decr_w = decr_w.GetRealPackedValue()\n",
    "        decr_b = cc.Decrypt(self.bias, keys.secretKey)\n",
    "        decr_b = decr_b.GetRealPackedValue()\n",
    "    \n",
    "        self._delta_w = 0\n",
    "        self._delta_b = 0\n",
    "    \n",
    "\n",
    "    def encrypt(self):\n",
    "        self.weight = cc.MakeCKKSPackedPlaintext(self.weight)\n",
    "        self.weight = cc.Encrypt(keys.publicKey, self.weight )\n",
    "        self.bias = cc.MakeCKKSPackedPlaintext(self.bias)\n",
    "        self.bias= cc.Encrypt(keys.publicKey, self.bias)\n",
    "       \n",
    "    def decrypt(self):\n",
    "        self.weight = cc.Decrypt(self.weight, keys.secretKey)\n",
    "        self.weight = self.weight.GetRealPackedValue()\n",
    "        self.bias = cc.Decrypt(self.bias, keys.secretKey)\n",
    "        self.bias = self.bias.GetRealPackedValue()\n",
    "      \n",
    "       "
   ]
  },
  {
   "cell_type": "code",
   "execution_count": 27,
   "id": "e0d0ce74",
   "metadata": {},
   "outputs": [
    {
     "name": "stdout",
     "output_type": "stream",
     "text": [
      "ring dim: 4096\n"
     ]
    }
   ],
   "source": [
    "multDepth = 10\n",
    "scaleModSize = 50\n",
    "batchSize = len(x_test[1]) #16\n",
    "parameters = openfhe.CCParamsCKKSRNS()\n",
    "parameters.SetMultiplicativeDepth(multDepth)\n",
    "parameters.SetScalingModSize(scaleModSize)\n",
    "parameters.SetBatchSize(batchSize)\n",
    "# parameters.SetScalingTechnique(openfhe.ScalingTechnique.FLEXIBLEAUTO)\n",
    "parameters.SetFirstModSize(60)\n",
    "\n",
    "parameters.SetRingDim(4096)\n",
    "parameters.SetSecurityLevel(openfhe.HEStd_NotSet)\n",
    "\n",
    "cc = openfhe.GenCryptoContext(parameters)\n",
    "\n",
    "cc.Enable(PKESchemeFeature.PKE)\n",
    "cc.Enable(PKESchemeFeature.KEYSWITCH)\n",
    "cc.Enable(PKESchemeFeature.LEVELEDSHE)\n",
    "cc.Enable(PKESchemeFeature.ADVANCEDSHE)\n",
    "cc.Enable(PKESchemeFeature.FHE)\n",
    "ring_dim = cc.GetRingDimension()\n",
    "security_param= parameters.GetSecurityLevel()\n",
    "keys = cc.KeyGen()\n",
    "\n",
    "cc.EvalMultKeyGen(keys.secretKey)\n",
    "cc.EvalSumKeyGen(keys.secretKey)\n",
    "\n",
    "print(f\"ring dim: {parameters.GetRingDim()}\")\n"
   ]
  },
  {
   "cell_type": "code",
   "execution_count": 8,
   "id": "5e9b380f",
   "metadata": {},
   "outputs": [
    {
     "name": "stdout",
     "output_type": "stream",
     "text": [
      "torch.Size([1000, 16])\n",
      "[[0.38178399205207825, 0.9948703050613403, -0.4117799401283264, -0.5782929062843323, -0.3283218741416931, -0.48778727650642395, -0.5707517862319946, -0.4851568639278412, -0.41272860765457153, -0.3342396318912506, -0.3290841579437256, -0.343669593334198, -0.4097440242767334, 2.0449681282043457, -0.4168514609336853, -0.33037757873535156], [0.38178399205207825, 0.9948703050613403, -0.4117799401283264, -0.5782929062843323, 3.0457913875579834, -0.48778727650642395, 1.7520751953125, 2.0611891746520996, -0.41272860765457153, -0.3342396318912506, -0.3290841579437256, -0.343669593334198, 2.4405479431152344, -0.4890051484107971, 2.3989360332489014, -0.33037757873535156]]\n",
      "<class 'list'>\n",
      "torch.Size([1000, 1])\n",
      "[[0.0], [1.0]]\n",
      "<class 'list'>\n",
      "torch.Size([700, 16])\n",
      "[[-0.4856494069099426, -1.00515615940094, -0.4117799401283264, 1.7292275428771973, -0.3283218741416931, -0.48778727650642395, -0.5707517862319946, -0.4851568639278412, -0.41272860765457153, -0.3342396318912506, 3.038736343383789, -0.343669593334198, 2.4405479431152344, -0.4890051484107971, -0.4168514609336853, -0.33037757873535156], [1.2492173910140991, 0.9948703050613403, -0.4117799401283264, 1.7292275428771973, 3.0457913875579834, 2.0500738620758057, 1.7520751953125, 2.0611891746520996, -0.41272860765457153, -0.3342396318912506, -0.3290841579437256, 2.90977144241333, 2.4405479431152344, 2.0449681282043457, -0.4168514609336853, -0.33037757873535156]]\n",
      "<class 'list'>\n"
     ]
    }
   ],
   "source": [
    "print(x_train.shape)\n",
    "x_train_list = x_train[:1000].tolist() \n",
    "print(x_train_list[:2])\n",
    "print(type(x_train_list[0]))\n",
    "\n",
    "print(y_train.shape)\n",
    "y_train_list = y_train[:1000].tolist() \n",
    "print(y_train_list[:2])\n",
    "print(type(y_train_list[0]))\n",
    "\n",
    "\n",
    "print(x_test.shape)\n",
    "x_test_list = x_test[:700].tolist() \n",
    "print(x_test_list[:2])\n",
    "print(type(x_test_list[0]))\n"
   ]
  },
  {
   "cell_type": "code",
   "execution_count": 9,
   "id": "fa737c09",
   "metadata": {},
   "outputs": [],
   "source": [
    "def encrypt_vector(lista):\n",
    "    enc_list=[]\n",
    "    for x_t_l in tqdm(lista, desc=\"data encryption\"):\n",
    "        x_test_encoded = cc.MakeCKKSPackedPlaintext(x_t_l)\n",
    "        enc_x_test = cc.Encrypt(keys.publicKey, x_test_encoded)\n",
    "        enc_list.append(enc_x_test)\n",
    "    return enc_list"
   ]
  },
  {
   "cell_type": "code",
   "execution_count": 28,
   "id": "1ff20eb7",
   "metadata": {},
   "outputs": [
    {
     "name": "stderr",
     "output_type": "stream",
     "text": [
      "data encryption: 100%|██████████| 1000/1000 [00:10<00:00, 95.24it/s]"
     ]
    },
    {
     "name": "stdout",
     "output_type": "stream",
     "text": [
      "encryption took: 10.505354070000976\n"
     ]
    },
    {
     "name": "stderr",
     "output_type": "stream",
     "text": [
      "\n"
     ]
    }
   ],
   "source": [
    "t_start = time.perf_counter()\n",
    "enc_x_train = encrypt_vector(x_train_list)\n",
    "t_end = time.perf_counter()\n",
    "print(f\"encryption took: {t_end-t_start}\")"
   ]
  },
  {
   "cell_type": "code",
   "execution_count": 53,
   "id": "a824ab1b",
   "metadata": {},
   "outputs": [
    {
     "name": "stderr",
     "output_type": "stream",
     "text": [
      "data encryption:   0%|          | 0/700 [00:00<?, ?it/s]"
     ]
    },
    {
     "name": "stderr",
     "output_type": "stream",
     "text": [
      "data encryption: 100%|██████████| 700/700 [00:07<00:00, 98.18it/s] "
     ]
    },
    {
     "name": "stdout",
     "output_type": "stream",
     "text": [
      "encryption took: 7.151251002000208\n"
     ]
    },
    {
     "name": "stderr",
     "output_type": "stream",
     "text": [
      "\n"
     ]
    }
   ],
   "source": [
    "t_start = time.perf_counter()\n",
    "enc_x_test = encrypt_vector(x_test_list)\n",
    "t_end = time.perf_counter()\n",
    "print(f\"encryption took: {t_end-t_start}\")"
   ]
  },
  {
   "cell_type": "code",
   "execution_count": 12,
   "id": "cfbad152",
   "metadata": {},
   "outputs": [],
   "source": [
    "def encrypt_vector_y(lista):\n",
    "    enc_list=[]\n",
    "    for x_t_l in tqdm(lista, desc=\"data encryption\"):\n",
    "        x_test_encoded = cc.MakeCKKSPackedPlaintext(x_t_l*16)\n",
    "        enc_x_test = cc.Encrypt(keys.publicKey, x_test_encoded)\n",
    "        enc_list.append(enc_x_test)\n",
    "    return enc_list"
   ]
  },
  {
   "cell_type": "code",
   "execution_count": 30,
   "id": "9203c8bf",
   "metadata": {},
   "outputs": [
    {
     "name": "stderr",
     "output_type": "stream",
     "text": [
      "data encryption: 100%|██████████| 1000/1000 [00:09<00:00, 109.68it/s]"
     ]
    },
    {
     "name": "stdout",
     "output_type": "stream",
     "text": [
      "encryption took: 9.126249987999472\n"
     ]
    },
    {
     "name": "stderr",
     "output_type": "stream",
     "text": [
      "\n"
     ]
    }
   ],
   "source": [
    "t_start = time.perf_counter()\n",
    "enc_y_train = encrypt_vector_y(y_train_list)\n",
    "t_end = time.perf_counter()\n",
    "print(f\"encryption took: {t_end-t_start}\")"
   ]
  },
  {
   "cell_type": "code",
   "execution_count": 16,
   "id": "afa458ea",
   "metadata": {},
   "outputs": [
    {
     "data": {
      "text/plain": [
       "tensor([0.])"
      ]
     },
     "execution_count": 16,
     "metadata": {},
     "output_type": "execute_result"
    }
   ],
   "source": [
    "y_train[0]"
   ]
  },
  {
   "cell_type": "code",
   "execution_count": 17,
   "id": "faf0e6d3",
   "metadata": {},
   "outputs": [
    {
     "name": "stdout",
     "output_type": "stream",
     "text": [
      "(1, 1, 1, 1, 1, 1, 1, 1, 1, 1, 1, 1, 1, 1, 1, 1,  ... ); Estimated precision: 44 bits\n",
      "\n"
     ]
    }
   ],
   "source": [
    "print(cc.Decrypt(enc_y_train[1],keys.secretKey))"
   ]
  },
  {
   "cell_type": "code",
   "execution_count": 18,
   "id": "6ed1f45e98acafec",
   "metadata": {
    "ExecuteTime": {
     "end_time": "2025-03-23T19:31:50.021732Z",
     "start_time": "2025-03-23T19:31:50.007749Z"
    }
   },
   "outputs": [],
   "source": [
    "def save_model(model,file_path):\n",
    "    pickle.dump(model, open(file_path, \"wb\"))\n"
   ]
  },
  {
   "cell_type": "code",
   "execution_count": 42,
   "id": "db0dfcf2",
   "metadata": {},
   "outputs": [],
   "source": [
    "def forward_test(model, x_test):\n",
    "    w = torch.tensor(model.weight)\n",
    "    b = torch.tensor(model.bias)\n",
    "    out = (x_test.matmul(w) + b[0]).reshape(-1, 1)\n",
    "    sigmo = torch.sigmoid(out)\n",
    "    return sigmo"
   ]
  },
  {
   "cell_type": "code",
   "execution_count": 20,
   "id": "9fd8842b",
   "metadata": {},
   "outputs": [],
   "source": [
    "y = y_test[:700].detach().numpy()"
   ]
  },
  {
   "cell_type": "code",
   "execution_count": 21,
   "id": "e8f22026",
   "metadata": {},
   "outputs": [
    {
     "data": {
      "text/plain": [
       "1000"
      ]
     },
     "execution_count": 21,
     "metadata": {},
     "output_type": "execute_result"
    }
   ],
   "source": [
    "len(enc_x_train)"
   ]
  },
  {
   "cell_type": "code",
   "execution_count": 25,
   "id": "635d44fa",
   "metadata": {},
   "outputs": [],
   "source": [
    "model = LogisticRegressionEncrypted(x_train.shape[1])"
   ]
  },
  {
   "cell_type": "code",
   "execution_count": null,
   "id": "c08b9374fb8f0861",
   "metadata": {
    "ExecuteTime": {
     "end_time": "2025-03-23T19:49:59.493531Z",
     "start_time": "2025-03-23T19:32:09.122127Z"
    }
   },
   "outputs": [
    {
     "name": "stderr",
     "output_type": "stream",
     "text": [
      "epoch:  20%|██        | 1/5 [03:25<13:40, 205.09s/it]"
     ]
    },
    {
     "name": "stdout",
     "output_type": "stream",
     "text": [
      "Epoca: 0 a durat 205.09291589399982 secunde\n",
      "Epoca: 0. Acuratetea pe setul de date necriptate: 0.9599999785423279\n"
     ]
    },
    {
     "name": "stderr",
     "output_type": "stream",
     "text": [
      "epoch:  40%|████      | 2/5 [06:45<10:06, 202.23s/it]"
     ]
    },
    {
     "name": "stdout",
     "output_type": "stream",
     "text": [
      "Epoca: 1 a durat 200.2208861250001 secunde\n",
      "Epoca: 1. Acuratetea pe setul de date necriptate: 0.9571428298950195\n"
     ]
    },
    {
     "name": "stderr",
     "output_type": "stream",
     "text": [
      "epoch:  60%|██████    | 3/5 [10:00<06:38, 199.03s/it]"
     ]
    },
    {
     "name": "stdout",
     "output_type": "stream",
     "text": [
      "Epoca: 2 a durat 195.23046600900125 secunde\n",
      "Epoca: 2. Acuratetea pe setul de date necriptate: 0.9671428799629211\n"
     ]
    },
    {
     "name": "stderr",
     "output_type": "stream",
     "text": [
      "epoch:  80%|████████  | 4/5 [13:32<03:24, 204.09s/it]"
     ]
    },
    {
     "name": "stdout",
     "output_type": "stream",
     "text": [
      "Epoca: 3 a durat 211.8493645840008 secunde\n",
      "Epoca: 3. Acuratetea pe setul de date necriptate: 0.9671428799629211\n"
     ]
    },
    {
     "name": "stderr",
     "output_type": "stream",
     "text": [
      "epoch: 100%|██████████| 5/5 [17:00<00:00, 204.06s/it]"
     ]
    },
    {
     "name": "stdout",
     "output_type": "stream",
     "text": [
      "Epoca: 4 a durat 207.91606020499967 secunde\n",
      "Epoca: 4. Acuratetea pe setul de date necriptate: 0.9728571176528931\n",
      "Antrenarea modelului a durat: 1020.3280629420005 secunde\n"
     ]
    },
    {
     "name": "stderr",
     "output_type": "stream",
     "text": [
      "\n"
     ]
    }
   ],
   "source": [
    "model = LogisticRegressionEncrypted(x_train.shape[1])\n",
    "batch_size = 512\n",
    "t_start = time.perf_counter()\n",
    "for epoch in tqdm(range(5),desc=\"epoch\"):\n",
    "    t_start_epoch = time.perf_counter()\n",
    "    indices = np.random.permutation(len(enc_x_train))\n",
    "    epoch_data = [enc_x_train[idx] for idx in indices]\n",
    "    epoch_targets = [enc_y_train[idx] for idx in indices]\n",
    "\n",
    "\n",
    "    for batch in range(0, len(epoch_data),batch_size):\n",
    "        model.encrypt()\n",
    "        batch_data = epoch_data[batch: batch+batch_size]\n",
    "        batch_targets = epoch_targets[batch: batch+batch_size]\n",
    "\n",
    "        batch_out = model.forward_on_encrypted_data(batch_data)\n",
    "        model.backward(batch_data, batch_out, batch_targets)\n",
    "        model.update_parameters()\n",
    "        model.decrypt()\n",
    "    \n",
    "    pred = forward_test(model,x_test[:700])\n",
    "    t_end_epoch = time.perf_counter()\n",
    "    print(f\"Epoca: {epoch} a durat {t_end_epoch-t_start_epoch} secunde\")\n",
    "    correct = torch.abs(y_test - pred.reshape(-1, 1)) < 0.5\n",
    "    correct= correct.float().mean()\n",
    "    print(f\"Epoca: {epoch}. Acuratetea pe setul de date necriptate: {correct}\")\n",
    "t_end = time.perf_counter()\n",
    "\n",
    "save_model(model,'lo_r_trained_on_encrypted_data.pkl')\n",
    "\n",
    "print(f\"Antrenarea modelului a durat: {t_end-t_start} secunde\")"
   ]
  },
  {
   "cell_type": "code",
   "execution_count": 46,
   "id": "47d20b80",
   "metadata": {},
   "outputs": [],
   "source": [
    "save_model(model,'lo_r_trained_on_encrypted_data.pkl')"
   ]
  },
  {
   "cell_type": "code",
   "execution_count": 56,
   "id": "ee5e09ae350f5902",
   "metadata": {
    "ExecuteTime": {
     "end_time": "2025-03-24T08:25:58.275309Z",
     "start_time": "2025-03-24T08:25:58.261645Z"
    }
   },
   "outputs": [],
   "source": [
    "def metrici_date_test_clare(model, x, y):\n",
    "    t_start = time.perf_counter()\n",
    "    pred = forward_test(model,x)\n",
    "    t_end = time.perf_counter()\n",
    "    print(f\"predictiile pe testul de date necriptate au durat:{(t_end - t_start):.20f} secunde\")\n",
    "\n",
    "    binary_preds = (np.array(pred) > 0.5).astype(int)\n",
    "    correct = torch.abs(y - pred.reshape(-1, 1)) < 0.5\n",
    "    correct= correct.float().mean()\n",
    "\n",
    "    print(f\"Acuratetea pe datele criptate este: {correct}\")\n",
    "    cm = confusion_matrix(y, binary_preds,  labels=[0, 1])\n",
    "    plt.figure(figsize=(8,6))\n",
    "    sns.set_style(\"dark\")\n",
    "    sns.heatmap(cm, annot=True, fmt='d', cmap=sns.cubehelix_palette(as_cmap=True), xticklabels=['Fără risc', 'Cu risc crescut'], yticklabels=[ 'Fără risc', 'Cu risc crescut'],linewidth=.5)\n",
    "    plt.xlabel('Predicții')\n",
    "    plt.ylabel('Valori reale')\n",
    "    plt.title('Matricea de confuzie date clare')\n",
    "    plt.savefig('./lo_r_trained_on_encrypted_data_confusion_matrix_on_clear_data.png')\n",
    "    plt.show()\n",
    "\n",
    "    return correct\n",
    "  "
   ]
  },
  {
   "cell_type": "code",
   "execution_count": 57,
   "id": "31b8a8b667da5a02",
   "metadata": {
    "ExecuteTime": {
     "end_time": "2025-03-24T08:24:31.368525Z",
     "start_time": "2025-03-24T08:24:30.411544Z"
    }
   },
   "outputs": [
    {
     "name": "stdout",
     "output_type": "stream",
     "text": [
      "predictiile pe testul de date necriptate au durat:0.00041282299935119227 secunde\n",
      "Acuratetea pe datele criptate este: 0.9685714244842529\n"
     ]
    },
    {
     "data": {
      "image/png": "[encoded data removed]",
      "text/plain": [
       "<Figure size 800x600 with 2 Axes>"
      ]
     },
     "metadata": {},
     "output_type": "display_data"
    }
   ],
   "source": [
    "plain_accuracy= metrici_date_test_clare(model,x_train[:700], y_train[:700])"
   ]
  },
  {
   "cell_type": "code",
   "execution_count": 51,
   "id": "92384de1",
   "metadata": {},
   "outputs": [],
   "source": [
    "def importanta_caracteristicilor(model, feature_names):\n",
    "    weights = model.weight\n",
    "    print(weights)\n",
    "\n",
    "    weights = np.abs(weights)\n",
    "    weights = weights / np.sum(weights)\n",
    "\n",
    "    sorted_indices = np.argsort(weights)\n",
    "    feature_names_sorted = [feature_names[i] for i in sorted_indices]\n",
    "    weights_sorted = weights[sorted_indices]\n",
    "\n",
    "    plt.figure(figsize=(16, 6))\n",
    "    sns.barplot(y=feature_names_sorted, x=weights_sorted, hue=feature_names_sorted, palette=sns.cubehelix_palette( n_colors=16), orient=\"h\", legend=False)\n",
    "\n",
    "    plt.xlabel('Importanța caracteristicilor', fontsize=12)\n",
    "    plt.ylabel('Caracteristici', fontsize=12)\n",
    "    plt.title('Grafic de importanța caracteristicilor', fontsize=14)\n",
    "\n",
    "    plt.grid(True, linestyle='--', alpha=0.7)\n",
    "    plt.savefig(\"./lo_r_trained_on_encrypted_data_feature_importance.png\")\n",
    "    plt.show()\n",
    "\n"
   ]
  },
  {
   "cell_type": "code",
   "execution_count": 52,
   "id": "368a609b",
   "metadata": {},
   "outputs": [
    {
     "name": "stdout",
     "output_type": "stream",
     "text": [
      "['age', 'gender', 'chest_pain', 'high_blood_pressure', 'irregular_heartbeat', 'shortness_of_breath', 'fatigue_weakness', 'dizziness', 'swelling_edema', 'neck_jaw_pain', 'excessive_sweating', 'persistent_cough', 'chest_discomfort', 'cold_hands_feet', 'snoring_sleep_apnea', 'anxiety_doom']\n",
      "[0.31211620930207984, -0.06145250279680736, 0.13984702448613287, 0.1926308785443346, 0.11024781780156923, 0.11891378751748044, 0.09950456822519832, 0.10597182591602139, 0.08543462215949221, 0.09936339320954748, 0.04400061406230002, 0.07770431252811341, 0.10524177665111428, 0.07221605959986613, 0.11257974830793832, 0.04641158963201202]\n"
     ]
    },
    {
     "data": {
      "image/png": "[encoded data removed]",
      "text/plain": [
       "<Figure size 1600x600 with 1 Axes>"
      ]
     },
     "metadata": {},
     "output_type": "display_data"
    }
   ],
   "source": [
    "csv = pd.read_csv('./stroke_risk_dataset.csv')\n",
    "csv = csv.drop(columns=[\"stroke_risk_percentage\", \"at_risk\", \"nausea_vomiting\"])\n",
    "header = csv.columns.tolist()\n",
    "print(header)\n",
    "importanta_caracteristicilor(model,header) "
   ]
  },
  {
   "cell_type": "code",
   "execution_count": 54,
   "id": "be5b2e89",
   "metadata": {},
   "outputs": [],
   "source": [
    "def metrici_date_test_criptate(model, enc_x, y):\n",
    "    #predictiile sunt se vor intoarce criptate\n",
    "    t_start = time.perf_counter()\n",
    "    model.encrypt()\n",
    "    enc_list_pred = model.forward_on_encrypted_data(enc_x)\n",
    "    model.decrypt()\n",
    "    t_end = time.perf_counter()\n",
    "    print(f\"Predictiile pe testul de date criptat au durat:{(t_end - t_start):.20f} secunde\")\n",
    "    # return enc_list_pred[0]\n",
    "    #trebuie decriptate pentru a calcula metricile\n",
    "    list_pred = []\n",
    "    t_start = time.perf_counter()\n",
    "    for enc_pred in enc_list_pred:\n",
    "        decript = cc.Decrypt(enc_pred, keys.secretKey)\n",
    "        decript.SetLength(1)\n",
    "        decoded_values = decript.GetCKKSPackedValue()\n",
    "        list_pred.append(decoded_values[0].real)\n",
    "    t_end = time.perf_counter()\n",
    "    print(f\"Decriptarea predictiilor a durat:{(t_end - t_start):.20f} secunde\")\n",
    "    \n",
    "    list_pred = torch.tensor(list_pred)\n",
    "    \n",
    "    binary_preds = (np.array(list_pred) > 0.5).astype(int)\n",
    "    correct = torch.abs(y - list_pred.reshape(-1, 1)) < 0.5\n",
    "    correct= correct.float().mean()\n",
    "\n",
    "    print(f\"Acuratetea pe datele criptate este: {correct}\")\n",
    "    cm = confusion_matrix(y, binary_preds,  labels=[0, 1])\n",
    "    plt.figure(figsize=(8,6))\n",
    "    sns.set_style(\"dark\")\n",
    "    sns.heatmap(cm, annot=True, fmt='d', cmap=sns.cubehelix_palette(as_cmap=True), xticklabels=['Fără risc', 'Cu risc crescut'], yticklabels=[ 'Fără risc', 'Cu risc crescut'],linewidth=.5)\n",
    "    plt.xlabel('Predicții')\n",
    "    plt.ylabel('Valori reale')\n",
    "    plt.title('Matricea de confuzie date criptate')\n",
    "    plt.savefig('./lo_r_trained_on_encrypted_data_confusion_matrix_on_encrypted_data.png')\n",
    "    plt.show()"
   ]
  },
  {
   "cell_type": "code",
   "execution_count": 55,
   "id": "04dc9990",
   "metadata": {},
   "outputs": [
    {
     "name": "stdout",
     "output_type": "stream",
     "text": [
      "Predictiile pe testul de date criptat au durat:136.81721675999870058149 secunde\n",
      "Decriptarea predictiilor a durat:3.46495158899961097632 secunde\n",
      "Acuratetea pe datele criptate este: 0.9728571176528931\n"
     ]
    },
    {
     "data": {
      "image/png": "[encoded data removed]",
      "text/plain": [
       "<Figure size 800x600 with 2 Axes>"
      ]
     },
     "metadata": {},
     "output_type": "display_data"
    }
   ],
   "source": [
    "accuracy_enc= metrici_date_test_criptate(model,enc_x_test,y_test[:700])"
   ]
  }
 ],
 "metadata": {
  "kernelspec": {
   "display_name": ".venv",
   "language": "python",
   "name": "python3"
  },
  "language_info": {
   "codemirror_mode": {
    "name": "ipython",
    "version": 3
   },
   "file_extension": ".py",
   "mimetype": "text/x-python",
   "name": "python",
   "nbconvert_exporter": "python",
   "pygments_lexer": "ipython3",
   "version": "3.10.12"
  }
 },
 "nbformat": 4,
 "nbformat_minor": 5
}
